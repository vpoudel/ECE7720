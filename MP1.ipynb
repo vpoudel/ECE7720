import matplotlib.plot as plt
